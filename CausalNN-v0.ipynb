{
 "cells": [
  {
   "cell_type": "code",
   "execution_count": null,
   "metadata": {
    "colab": {
     "base_uri": "https://localhost:8080/",
     "height": 1000,
     "referenced_widgets": [
      "b3543264a3fc445f8ea3878f741bbbd4",
      "bd30989e8789403aa23d960fdc5ea7b3",
      "e98814ef700d462eac2baa0fa66fc41f",
      "3352db3427914800aa3cc0821cd2066d",
      "cb71168f24db4f3b984fea445b01dddd",
      "d3f67093d6534987aafd110dafd39a0d",
      "94d5c0e77a12480d901d737bece2612f",
      "d683c488673940d09680b54f94d2f379",
      "0f7f36602a444febb2a3fc6276b19b61",
      "0e6a651e15ee46c0b07ce87ee3aa3aaa",
      "b99c3947982e4a64a67f76e85d8b83c5",
      "001c607190d24fea86a93077a6e35141",
      "bfa994fdb1384ffaa0a1efa25476dddd",
      "82a421b40b0b4db384cf43e394da663d",
      "e100ee4ffcc94b23bbf35d873509b083",
      "317644733e3643b19e107a6d56fa2abf",
      "13021a4ef6aa4b76a97319cd17ed364a",
      "5c1e3bb2821d427fbd325dc32d950f0d",
      "e74829a77a194096b02a2cea86d1aec0",
      "ceda620b942d4dc294f690d48a3922da",
      "2e4fa96942da43bcbc332b1f33bc484f",
      "3fc139faefc2425385903d1029e20ea0",
      "24bf0828ce1a4f56bfca7a1ead1c29ac",
      "78180c907fa84131b01e96f617d8443c",
      "0925b060027240e98865193402e774ee",
      "5b16d3edd91545dab0aa33d257cc990d",
      "5ec1752953de41c3bfdbe38d79d74109",
      "81513782e5754acaaede06a328e8f3b3",
      "ec64ebe2b55e4666913d4cad7f9e9fb2",
      "52da2eaca3c74b6188c541b1f32c6204",
      "c2e4e8ec9e08456ca4483c9f11221116",
      "04ca3196f21443e4889cd9fc42c7afcf"
     ]
    },
    "id": "Eb5-Q5l6RAeN",
    "outputId": "9634b835-d684-4c02-8602-d89c2c0e4111"
   },
   "outputs": [
    {
     "name": "stdout",
     "output_type": "stream",
     "text": [
      "Downloading http://yann.lecun.com/exdb/mnist/train-images-idx3-ubyte.gz to ./data/MNIST/raw/train-images-idx3-ubyte.gz\n"
     ]
    },
    {
     "data": {
      "application/vnd.jupyter.widget-view+json": {
       "model_id": "b3543264a3fc445f8ea3878f741bbbd4",
       "version_major": 2,
       "version_minor": 0
      },
      "text/plain": [
       "HBox(children=(FloatProgress(value=1.0, bar_style='info', max=1.0), HTML(value='')))"
      ]
     },
     "metadata": {
      "tags": []
     },
     "output_type": "display_data"
    },
    {
     "name": "stdout",
     "output_type": "stream",
     "text": [
      "Extracting ./data/MNIST/raw/train-images-idx3-ubyte.gz to ./data/MNIST/raw\n",
      "Downloading http://yann.lecun.com/exdb/mnist/train-labels-idx1-ubyte.gz to ./data/MNIST/raw/train-labels-idx1-ubyte.gz\n"
     ]
    },
    {
     "data": {
      "application/vnd.jupyter.widget-view+json": {
       "model_id": "0f7f36602a444febb2a3fc6276b19b61",
       "version_major": 2,
       "version_minor": 0
      },
      "text/plain": [
       "HBox(children=(FloatProgress(value=1.0, bar_style='info', max=1.0), HTML(value='')))"
      ]
     },
     "metadata": {
      "tags": []
     },
     "output_type": "display_data"
    },
    {
     "name": "stdout",
     "output_type": "stream",
     "text": [
      "Extracting ./data/MNIST/raw/train-labels-idx1-ubyte.gz to ./data/MNIST/raw\n",
      "Downloading http://yann.lecun.com/exdb/mnist/t10k-images-idx3-ubyte.gz to ./data/MNIST/raw/t10k-images-idx3-ubyte.gz\n"
     ]
    },
    {
     "data": {
      "application/vnd.jupyter.widget-view+json": {
       "model_id": "13021a4ef6aa4b76a97319cd17ed364a",
       "version_major": 2,
       "version_minor": 0
      },
      "text/plain": [
       "HBox(children=(FloatProgress(value=1.0, bar_style='info', max=1.0), HTML(value='')))"
      ]
     },
     "metadata": {
      "tags": []
     },
     "output_type": "display_data"
    },
    {
     "name": "stdout",
     "output_type": "stream",
     "text": [
      "Extracting ./data/MNIST/raw/t10k-images-idx3-ubyte.gz to ./data/MNIST/raw\n",
      "Downloading http://yann.lecun.com/exdb/mnist/t10k-labels-idx1-ubyte.gz to ./data/MNIST/raw/t10k-labels-idx1-ubyte.gz\n",
      "\n",
      "\n"
     ]
    },
    {
     "data": {
      "application/vnd.jupyter.widget-view+json": {
       "model_id": "0925b060027240e98865193402e774ee",
       "version_major": 2,
       "version_minor": 0
      },
      "text/plain": [
       "HBox(children=(FloatProgress(value=1.0, bar_style='info', max=1.0), HTML(value='')))"
      ]
     },
     "metadata": {
      "tags": []
     },
     "output_type": "display_data"
    },
    {
     "name": "stdout",
     "output_type": "stream",
     "text": [
      "Extracting ./data/MNIST/raw/t10k-labels-idx1-ubyte.gz to ./data/MNIST/raw\n",
      "Processing...\n"
     ]
    },
    {
     "name": "stderr",
     "output_type": "stream",
     "text": [
      "/usr/local/lib/python3.6/dist-packages/torchvision/datasets/mnist.py:480: UserWarning: The given NumPy array is not writeable, and PyTorch does not support non-writeable tensors. This means you can write to the underlying (supposedly non-writeable) NumPy array using the tensor. You may want to copy the array to protect its data or make it writeable before converting it to a tensor. This type of warning will be suppressed for the rest of this program. (Triggered internally at  /pytorch/torch/csrc/utils/tensor_numpy.cpp:141.)\n",
      "  return torch.from_numpy(parsed.astype(m[2], copy=False)).view(*s)\n"
     ]
    },
    {
     "name": "stdout",
     "output_type": "stream",
     "text": [
      "Done!\n",
      "Epoch [1/20], Step [400/937], d_loss: 0.9378, g_loss: 3.4960, D(x): 0.85, D(G(z)): 0.45\n",
      "Epoch [1/20], Step [800/937], d_loss: 0.0718, g_loss: 5.3226, D(x): 0.97, D(G(z)): 0.03\n",
      "Epoch [2/20], Step [400/937], d_loss: 0.4077, g_loss: 3.3101, D(x): 0.93, D(G(z)): 0.24\n",
      "Epoch [2/20], Step [800/937], d_loss: 0.6124, g_loss: 3.5588, D(x): 0.79, D(G(z)): 0.16\n",
      "Epoch [3/20], Step [400/937], d_loss: 0.1108, g_loss: 5.0891, D(x): 0.95, D(G(z)): 0.03\n",
      "Epoch [3/20], Step [800/937], d_loss: 0.3877, g_loss: 2.2736, D(x): 0.84, D(G(z)): 0.14\n",
      "Epoch [4/20], Step [400/937], d_loss: 0.2417, g_loss: 5.3058, D(x): 0.90, D(G(z)): 0.03\n",
      "Epoch [4/20], Step [800/937], d_loss: 0.1751, g_loss: 4.1704, D(x): 0.93, D(G(z)): 0.05\n"
     ]
    },
    {
     "name": "stderr",
     "output_type": "stream",
     "text": [
      "Clipping input data to the valid range for imshow with RGB data ([0..1] for floats or [0..255] for integers).\n"
     ]
    },
    {
     "data": {
      "image/png": "[encoded data removed]",
      "text/plain": [
       "<Figure size 432x288 with 1 Axes>"
      ]
     },
     "metadata": {
      "needs_background": "light",
      "tags": []
     },
     "output_type": "display_data"
    },
    {
     "name": "stdout",
     "output_type": "stream",
     "text": [
      "Epoch [5/20], Step [400/937], d_loss: 0.5255, g_loss: 5.0411, D(x): 0.94, D(G(z)): 0.28\n",
      "Epoch [5/20], Step [800/937], d_loss: 0.0399, g_loss: 5.2871, D(x): 0.99, D(G(z)): 0.03\n",
      "Epoch [6/20], Step [400/937], d_loss: 0.3169, g_loss: 3.8723, D(x): 0.96, D(G(z)): 0.13\n",
      "Epoch [6/20], Step [800/937], d_loss: 0.2437, g_loss: 5.1308, D(x): 0.93, D(G(z)): 0.03\n",
      "Epoch [7/20], Step [400/937], d_loss: 0.2501, g_loss: 6.3282, D(x): 0.92, D(G(z)): 0.04\n",
      "Epoch [7/20], Step [800/937], d_loss: 0.2566, g_loss: 3.6850, D(x): 0.97, D(G(z)): 0.16\n",
      "Epoch [8/20], Step [400/937], d_loss: 0.1831, g_loss: 4.6353, D(x): 0.94, D(G(z)): 0.06\n",
      "Epoch [8/20], Step [800/937], d_loss: 0.2282, g_loss: 4.5930, D(x): 0.93, D(G(z)): 0.05\n"
     ]
    },
    {
     "name": "stderr",
     "output_type": "stream",
     "text": [
      "Clipping input data to the valid range for imshow with RGB data ([0..1] for floats or [0..255] for integers).\n"
     ]
    },
    {
     "data": {
      "image/png": "[encoded data removed]",
      "text/plain": [
       "<Figure size 432x288 with 1 Axes>"
      ]
     },
     "metadata": {
      "needs_background": "light",
      "tags": []
     },
     "output_type": "display_data"
    },
    {
     "name": "stdout",
     "output_type": "stream",
     "text": [
      "Epoch [9/20], Step [400/937], d_loss: 0.0674, g_loss: 4.7194, D(x): 0.96, D(G(z)): 0.02\n",
      "Epoch [9/20], Step [800/937], d_loss: 0.3145, g_loss: 5.7970, D(x): 0.97, D(G(z)): 0.20\n",
      "Epoch [10/20], Step [400/937], d_loss: 0.1797, g_loss: 4.7255, D(x): 0.96, D(G(z)): 0.05\n",
      "Epoch [10/20], Step [800/937], d_loss: 0.2142, g_loss: 5.7414, D(x): 0.97, D(G(z)): 0.13\n",
      "Epoch [11/20], Step [400/937], d_loss: 0.1742, g_loss: 5.7640, D(x): 0.93, D(G(z)): 0.03\n",
      "Epoch [11/20], Step [800/937], d_loss: 0.1267, g_loss: 3.4304, D(x): 0.94, D(G(z)): 0.03\n",
      "Epoch [12/20], Step [400/937], d_loss: 0.4813, g_loss: 6.6577, D(x): 0.84, D(G(z)): 0.01\n",
      "Epoch [12/20], Step [800/937], d_loss: 0.2744, g_loss: 3.8528, D(x): 0.96, D(G(z)): 0.11\n"
     ]
    },
    {
     "name": "stderr",
     "output_type": "stream",
     "text": [
      "Clipping input data to the valid range for imshow with RGB data ([0..1] for floats or [0..255] for integers).\n"
     ]
    },
    {
     "data": {
      "image/png": "[encoded data removed]",
      "text/plain": [
       "<Figure size 432x288 with 1 Axes>"
      ]
     },
     "metadata": {
      "needs_background": "light",
      "tags": []
     },
     "output_type": "display_data"
    },
    {
     "name": "stdout",
     "output_type": "stream",
     "text": [
      "Epoch [13/20], Step [400/937], d_loss: 0.1996, g_loss: 3.6199, D(x): 0.96, D(G(z)): 0.12\n",
      "Epoch [13/20], Step [800/937], d_loss: 0.5145, g_loss: 4.1070, D(x): 0.86, D(G(z)): 0.06\n",
      "Epoch [14/20], Step [400/937], d_loss: 0.1352, g_loss: 4.8504, D(x): 0.93, D(G(z)): 0.03\n",
      "Epoch [14/20], Step [800/937], d_loss: 0.1562, g_loss: 3.9026, D(x): 0.93, D(G(z)): 0.06\n",
      "Epoch [15/20], Step [400/937], d_loss: 0.5024, g_loss: 2.6427, D(x): 0.82, D(G(z)): 0.09\n",
      "Epoch [15/20], Step [800/937], d_loss: 0.3613, g_loss: 4.6367, D(x): 0.88, D(G(z)): 0.07\n",
      "Epoch [16/20], Step [400/937], d_loss: 0.4502, g_loss: 3.3923, D(x): 0.91, D(G(z)): 0.18\n",
      "Epoch [16/20], Step [800/937], d_loss: 0.2705, g_loss: 4.5598, D(x): 0.95, D(G(z)): 0.11\n"
     ]
    },
    {
     "name": "stderr",
     "output_type": "stream",
     "text": [
      "Clipping input data to the valid range for imshow with RGB data ([0..1] for floats or [0..255] for integers).\n"
     ]
    },
    {
     "data": {
      "image/png": "[encoded data removed]",
      "text/plain": [
       "<Figure size 432x288 with 1 Axes>"
      ]
     },
     "metadata": {
      "needs_background": "light",
      "tags": []
     },
     "output_type": "display_data"
    },
    {
     "name": "stdout",
     "output_type": "stream",
     "text": [
      "Epoch [17/20], Step [400/937], d_loss: 0.3355, g_loss: 3.6583, D(x): 0.84, D(G(z)): 0.05\n",
      "Epoch [17/20], Step [800/937], d_loss: 0.3264, g_loss: 4.3665, D(x): 0.92, D(G(z)): 0.12\n",
      "Epoch [18/20], Step [400/937], d_loss: 0.3658, g_loss: 2.8773, D(x): 0.89, D(G(z)): 0.10\n",
      "Epoch [18/20], Step [800/937], d_loss: 0.3647, g_loss: 4.6327, D(x): 0.86, D(G(z)): 0.05\n",
      "Epoch [19/20], Step [400/937], d_loss: 0.1802, g_loss: 5.5471, D(x): 0.93, D(G(z)): 0.06\n",
      "Epoch [19/20], Step [800/937], d_loss: 0.3849, g_loss: 3.2326, D(x): 0.91, D(G(z)): 0.10\n",
      "Epoch [20/20], Step [400/937], d_loss: 0.3775, g_loss: 3.6040, D(x): 0.94, D(G(z)): 0.17\n",
      "Epoch [20/20], Step [800/937], d_loss: 0.3016, g_loss: 3.5490, D(x): 0.88, D(G(z)): 0.07\n"
     ]
    },
    {
     "name": "stderr",
     "output_type": "stream",
     "text": [
      "Clipping input data to the valid range for imshow with RGB data ([0..1] for floats or [0..255] for integers).\n"
     ]
    },
    {
     "data": {
      "image/png": "[encoded data removed]",
      "text/plain": [
       "<Figure size 432x288 with 1 Axes>"
      ]
     },
     "metadata": {
      "needs_background": "light",
      "tags": []
     },
     "output_type": "display_data"
    }
   ],
   "source": [
    "import torch\n",
    "from torch import nn\n",
    "from torchvision import datasets, transforms\n",
    "from torch.utils.data import DataLoader\n",
    "from torchvision.utils import make_grid\n",
    "import matplotlib.pyplot as plt\n",
    "import numpy as np\n",
    "\n",
    "device = torch.device(\"cuda\" if torch.cuda.is_available() else \"cpu\")\n",
    "latent_size = 64\n",
    "hidden_size = 256\n",
    "image_size = 784\n",
    "num_epochs = 20\n",
    "batch_size = 64\n",
    "lr = 0.0002\n",
    "print_interval = 400\n",
    "show_interval = num_epochs // 5\n",
    "transform = transforms.Compose([\n",
    "    transforms.ToTensor(),\n",
    "    transforms.Normalize(mean=(0.5), std=(0.5)),\n",
    "])\n",
    "dataset = datasets.MNIST(root=\"./data\", download=True, transform=transform)\n",
    "data_loader = DataLoader(dataset=dataset, batch_size=batch_size, shuffle=True, drop_last=True)\n",
    "\n",
    "\n",
    "def discriminator(image_size, hidden_size):\n",
    "    D = nn.Sequential(nn.Linear(image_size, hidden_size),\n",
    "                      nn.LeakyReLU(0.2),\n",
    "                      nn.Linear(hidden_size, hidden_size),\n",
    "                      nn.LeakyReLU(0.2),\n",
    "                      nn.Linear(hidden_size, 1),\n",
    "                      nn.Sigmoid(),\n",
    "                     )\n",
    "    return D\n",
    "\n",
    "\n",
    "def generator(latent_size, hidden_size):\n",
    "    G = nn.Sequential(nn.Linear(latent_size, hidden_size),\n",
    "                      nn.ReLU(),\n",
    "                      nn.Linear(hidden_size, hidden_size),\n",
    "                      nn.ReLU(),\n",
    "                      nn.Linear(hidden_size, image_size),\n",
    "                      nn.Tanh(),\n",
    "                      )\n",
    "    return G\n",
    "\n",
    "def labler():\n",
    "    L = nn.Sequential(nn.Linear(image_size, hidden_size),\n",
    "                      nn.LeakyReLU(0.2),\n",
    "                      nn.Linear(hidden_size, hidden_size),\n",
    "                      nn.LeakyReLU(0.2),\n",
    "                      nn.Linear(hidden_size, 1),\n",
    "                      nn.Sigmoid(),\n",
    "                     )\n",
    "    return L\n",
    "\n",
    "def anti_labler():\n",
    "    AL = nn.Sequential(nn.Linear(image_size, hidden_size),\n",
    "                      nn.LeakyReLU(0.2),\n",
    "                      nn.Linear(hidden_size, hidden_size),\n",
    "                      nn.LeakyReLU(0.2),\n",
    "                      nn.Linear(hidden_size, 1),\n",
    "                      nn.Sigmoid(),\n",
    "                     )\n",
    "    return AL\n",
    "\n",
    "def reset_grad():\n",
    "    d_optimizer.zero_grad()\n",
    "    g_optimizer.zero_grad()\n",
    "    l_optimizer.zero_grad()\n",
    "    al_optimizer.zero_grad()\n",
    "    \n",
    "if __name__ == '__main__':\n",
    "    \n",
    "    D = discriminator(image_size, hidden_size).to(device)\n",
    "    G = generator(latent_size, hidden_size).to(device)\n",
    "    D = labler(image_size, hidden_size).to(device)\n",
    "    G = anti_labler(image_size, hidden_size).to(device)\n",
    "\n",
    "    criterion = nn.BCELoss()\n",
    "    d_optimizer = torch.optim.Adam(D.parameters(), lr=lr)\n",
    "    g_optimizer = torch.optim.Adam(G.parameters(), lr=lr)\n",
    "    l_optimizer = torch.optim.Adam(D.parameters(), lr=lr)\n",
    "    al_optimizer = torch.optim.Adam(D.parameters(), lr=lr)\n",
    "\n",
    "    total_step = len(data_loader)\n",
    "\n",
    "    real_labels = torch.ones(batch_size, 1).to(device)\n",
    "    fake_labels = torch.zeros(batch_size, 1).to(device)\n",
    "\n",
    "    for epoch in range(num_epochs):\n",
    "        for i, (images, _) in enumerate(data_loader):\n",
    "            images = images.reshape(batch_size, -1).to(device)\n",
    "\n",
    "            # train discriminator\n",
    "            # real images\n",
    "            outputs = D(images)\n",
    "            d_loss_real = criterion(outputs, real_labels)\n",
    "            real_score = outputs.mean().item()\n",
    "\n",
    "            # fake images\n",
    "            z = torch.randn(batch_size, latent_size).to(device)\n",
    "            fake_images = G(z)\n",
    "            outputs = D(fake_images)\n",
    "            d_loss_fake = criterion(outputs, fake_labels)\n",
    "            fake_score = outputs.mean().item()\n",
    "\n",
    "            d_loss = d_loss_real + d_loss_fake\n",
    "            reset_grad()\n",
    "            d_loss.backward()\n",
    "            d_optimizer.step()\n",
    "\n",
    "            # train generator\n",
    "            z = torch.randn(batch_size, latent_size).to(device)\n",
    "            fake_images = G(z)\n",
    "            outputs = D(fake_images)\n",
    "\n",
    "            g_loss = criterion(outputs, real_labels)\n",
    "            reset_grad()\n",
    "            g_loss.backward()\n",
    "            g_optimizer.step()\n",
    "            \n",
    "            # train labler\n",
    "            \n",
    "            \n",
    "            l_loss = \n",
    "            al_loss = \n",
    "            \n",
    "            \n",
    "\n",
    "            if (i + 1) % print_interval == 0:\n",
    "                print(\n",
    "                    f\"Epoch [{epoch+1}/{num_epochs}], \"\n",
    "                    f\"Step [{i+1}/{total_step}], \"\n",
    "                    f\"d_loss: {d_loss.item():.4f}, g_loss: {g_loss.item():.4f}, \"\n",
    "                    f\"D(x): {real_score:.2f}, D(G(z)): {fake_score:.2f}\"\n",
    "                )\n",
    "        if (epoch + 1) % show_interval == 0:\n",
    "            fake_images = fake_images.reshape(batch_size, 1, 28, 28).detach()\n",
    "            plt.imshow(make_grid(fake_images).permute(1, 2, 0))\n",
    "            plt.axis(\"off\")\n",
    "            plt.show()\n",
    "\n"
   ]
  }
 ],
 "metadata": {
  "colab": {
   "collapsed_sections": [],
   "name": "Copy of CausalNN.ipynb",
   "provenance": []
  },
  "kernelspec": {
   "display_name": "Python 3",
   "language": "python",
   "name": "python3"
  },
  "language_info": {
   "codemirror_mode": {
    "name": "ipython",
    "version": 3
   },
   "file_extension": ".py",
   "mimetype": "text/x-python",
   "name": "python",
   "nbconvert_exporter": "python",
   "pygments_lexer": "ipython3",
   "version": "3.6.7"
  },
  "widgets": {
   "application/vnd.jupyter.widget-state+json": {
    "001c607190d24fea86a93077a6e35141": {
     "model_module": "@jupyter-widgets/controls",
     "model_name": "HTMLModel",
     "state": {
      "_dom_classes": [],
      "_model_module": "@jupyter-widgets/controls",
      "_model_module_version": "1.5.0",
      "_model_name": "HTMLModel",
      "_view_count": null,
      "_view_module": "@jupyter-widgets/controls",
      "_view_module_version": "1.5.0",
      "_view_name": "HTMLView",
      "description": "",
      "description_tooltip": null,
      "layout": "IPY_MODEL_317644733e3643b19e107a6d56fa2abf",
      "placeholder": "​",
      "style": "IPY_MODEL_e100ee4ffcc94b23bbf35d873509b083",
      "value": " 32768/? [00:02&lt;00:00, 13040.13it/s]"
     }
    },
    "04ca3196f21443e4889cd9fc42c7afcf": {
     "model_module": "@jupyter-widgets/base",
     "model_name": "LayoutModel",
     "state": {
      "_model_module": "@jupyter-widgets/base",
      "_model_module_version": "1.2.0",
      "_model_name": "LayoutModel",
      "_view_count": null,
      "_view_module": "@jupyter-widgets/base",
      "_view_module_version": "1.2.0",
      "_view_name": "LayoutView",
      "align_content": null,
      "align_items": null,
      "align_self": null,
      "border": null,
      "bottom": null,
      "display": null,
      "flex": null,
      "flex_flow": null,
      "grid_area": null,
      "grid_auto_columns": null,
      "grid_auto_flow": null,
      "grid_auto_rows": null,
      "grid_column": null,
      "grid_gap": null,
      "grid_row": null,
      "grid_template_areas": null,
      "grid_template_columns": null,
      "grid_template_rows": null,
      "height": null,
      "justify_content": null,
      "justify_items": null,
      "left": null,
      "margin": null,
      "max_height": null,
      "max_width": null,
      "min_height": null,
      "min_width": null,
      "object_fit": null,
      "object_position": null,
      "order": null,
      "overflow": null,
      "overflow_x": null,
      "overflow_y": null,
      "padding": null,
      "right": null,
      "top": null,
      "visibility": null,
      "width": null
     }
    },
    "0925b060027240e98865193402e774ee": {
     "model_module": "@jupyter-widgets/controls",
     "model_name": "HBoxModel",
     "state": {
      "_dom_classes": [],
      "_model_module": "@jupyter-widgets/controls",
      "_model_module_version": "1.5.0",
      "_model_name": "HBoxModel",
      "_view_count": null,
      "_view_module": "@jupyter-widgets/controls",
      "_view_module_version": "1.5.0",
      "_view_name": "HBoxView",
      "box_style": "",
      "children": [
       "IPY_MODEL_5ec1752953de41c3bfdbe38d79d74109",
       "IPY_MODEL_81513782e5754acaaede06a328e8f3b3"
      ],
      "layout": "IPY_MODEL_5b16d3edd91545dab0aa33d257cc990d"
     }
    },
    "0e6a651e15ee46c0b07ce87ee3aa3aaa": {
     "model_module": "@jupyter-widgets/base",
     "model_name": "LayoutModel",
     "state": {
      "_model_module": "@jupyter-widgets/base",
      "_model_module_version": "1.2.0",
      "_model_name": "LayoutModel",
      "_view_count": null,
      "_view_module": "@jupyter-widgets/base",
      "_view_module_version": "1.2.0",
      "_view_name": "LayoutView",
      "align_content": null,
      "align_items": null,
      "align_self": null,
      "border": null,
      "bottom": null,
      "display": null,
      "flex": null,
      "flex_flow": null,
      "grid_area": null,
      "grid_auto_columns": null,
      "grid_auto_flow": null,
      "grid_auto_rows": null,
      "grid_column": null,
      "grid_gap": null,
      "grid_row": null,
      "grid_template_areas": null,
      "grid_template_columns": null,
      "grid_template_rows": null,
      "height": null,
      "justify_content": null,
      "justify_items": null,
      "left": null,
      "margin": null,
      "max_height": null,
      "max_width": null,
      "min_height": null,
      "min_width": null,
      "object_fit": null,
      "object_position": null,
      "order": null,
      "overflow": null,
      "overflow_x": null,
      "overflow_y": null,
      "padding": null,
      "right": null,
      "top": null,
      "visibility": null,
      "width": null
     }
    },
    "0f7f36602a444febb2a3fc6276b19b61": {
     "model_module": "@jupyter-widgets/controls",
     "model_name": "HBoxModel",
     "state": {
      "_dom_classes": [],
      "_model_module": "@jupyter-widgets/controls",
      "_model_module_version": "1.5.0",
      "_model_name": "HBoxModel",
      "_view_count": null,
      "_view_module": "@jupyter-widgets/controls",
      "_view_module_version": "1.5.0",
      "_view_name": "HBoxView",
      "box_style": "",
      "children": [
       "IPY_MODEL_b99c3947982e4a64a67f76e85d8b83c5",
       "IPY_MODEL_001c607190d24fea86a93077a6e35141"
      ],
      "layout": "IPY_MODEL_0e6a651e15ee46c0b07ce87ee3aa3aaa"
     }
    },
    "13021a4ef6aa4b76a97319cd17ed364a": {
     "model_module": "@jupyter-widgets/controls",
     "model_name": "HBoxModel",
     "state": {
      "_dom_classes": [],
      "_model_module": "@jupyter-widgets/controls",
      "_model_module_version": "1.5.0",
      "_model_name": "HBoxModel",
      "_view_count": null,
      "_view_module": "@jupyter-widgets/controls",
      "_view_module_version": "1.5.0",
      "_view_name": "HBoxView",
      "box_style": "",
      "children": [
       "IPY_MODEL_e74829a77a194096b02a2cea86d1aec0",
       "IPY_MODEL_ceda620b942d4dc294f690d48a3922da"
      ],
      "layout": "IPY_MODEL_5c1e3bb2821d427fbd325dc32d950f0d"
     }
    },
    "24bf0828ce1a4f56bfca7a1ead1c29ac": {
     "model_module": "@jupyter-widgets/controls",
     "model_name": "DescriptionStyleModel",
     "state": {
      "_model_module": "@jupyter-widgets/controls",
      "_model_module_version": "1.5.0",
      "_model_name": "DescriptionStyleModel",
      "_view_count": null,
      "_view_module": "@jupyter-widgets/base",
      "_view_module_version": "1.2.0",
      "_view_name": "StyleView",
      "description_width": ""
     }
    },
    "2e4fa96942da43bcbc332b1f33bc484f": {
     "model_module": "@jupyter-widgets/controls",
     "model_name": "ProgressStyleModel",
     "state": {
      "_model_module": "@jupyter-widgets/controls",
      "_model_module_version": "1.5.0",
      "_model_name": "ProgressStyleModel",
      "_view_count": null,
      "_view_module": "@jupyter-widgets/base",
      "_view_module_version": "1.2.0",
      "_view_name": "StyleView",
      "bar_color": null,
      "description_width": "initial"
     }
    },
    "317644733e3643b19e107a6d56fa2abf": {
     "model_module": "@jupyter-widgets/base",
     "model_name": "LayoutModel",
     "state": {
      "_model_module": "@jupyter-widgets/base",
      "_model_module_version": "1.2.0",
      "_model_name": "LayoutModel",
      "_view_count": null,
      "_view_module": "@jupyter-widgets/base",
      "_view_module_version": "1.2.0",
      "_view_name": "LayoutView",
      "align_content": null,
      "align_items": null,
      "align_self": null,
      "border": null,
      "bottom": null,
      "display": null,
      "flex": null,
      "flex_flow": null,
      "grid_area": null,
      "grid_auto_columns": null,
      "grid_auto_flow": null,
      "grid_auto_rows": null,
      "grid_column": null,
      "grid_gap": null,
      "grid_row": null,
      "grid_template_areas": null,
      "grid_template_columns": null,
      "grid_template_rows": null,
      "height": null,
      "justify_content": null,
      "justify_items": null,
      "left": null,
      "margin": null,
      "max_height": null,
      "max_width": null,
      "min_height": null,
      "min_width": null,
      "object_fit": null,
      "object_position": null,
      "order": null,
      "overflow": null,
      "overflow_x": null,
      "overflow_y": null,
      "padding": null,
      "right": null,
      "top": null,
      "visibility": null,
      "width": null
     }
    },
    "3352db3427914800aa3cc0821cd2066d": {
     "model_module": "@jupyter-widgets/controls",
     "model_name": "HTMLModel",
     "state": {
      "_dom_classes": [],
      "_model_module": "@jupyter-widgets/controls",
      "_model_module_version": "1.5.0",
      "_model_name": "HTMLModel",
      "_view_count": null,
      "_view_module": "@jupyter-widgets/controls",
      "_view_module_version": "1.5.0",
      "_view_name": "HTMLView",
      "description": "",
      "description_tooltip": null,
      "layout": "IPY_MODEL_d683c488673940d09680b54f94d2f379",
      "placeholder": "​",
      "style": "IPY_MODEL_94d5c0e77a12480d901d737bece2612f",
      "value": " 9920512/? [00:20&lt;00:00, 2534851.27it/s]"
     }
    },
    "3fc139faefc2425385903d1029e20ea0": {
     "model_module": "@jupyter-widgets/base",
     "model_name": "LayoutModel",
     "state": {
      "_model_module": "@jupyter-widgets/base",
      "_model_module_version": "1.2.0",
      "_model_name": "LayoutModel",
      "_view_count": null,
      "_view_module": "@jupyter-widgets/base",
      "_view_module_version": "1.2.0",
      "_view_name": "LayoutView",
      "align_content": null,
      "align_items": null,
      "align_self": null,
      "border": null,
      "bottom": null,
      "display": null,
      "flex": null,
      "flex_flow": null,
      "grid_area": null,
      "grid_auto_columns": null,
      "grid_auto_flow": null,
      "grid_auto_rows": null,
      "grid_column": null,
      "grid_gap": null,
      "grid_row": null,
      "grid_template_areas": null,
      "grid_template_columns": null,
      "grid_template_rows": null,
      "height": null,
      "justify_content": null,
      "justify_items": null,
      "left": null,
      "margin": null,
      "max_height": null,
      "max_width": null,
      "min_height": null,
      "min_width": null,
      "object_fit": null,
      "object_position": null,
      "order": null,
      "overflow": null,
      "overflow_x": null,
      "overflow_y": null,
      "padding": null,
      "right": null,
      "top": null,
      "visibility": null,
      "width": null
     }
    },
    "52da2eaca3c74b6188c541b1f32c6204": {
     "model_module": "@jupyter-widgets/base",
     "model_name": "LayoutModel",
     "state": {
      "_model_module": "@jupyter-widgets/base",
      "_model_module_version": "1.2.0",
      "_model_name": "LayoutModel",
      "_view_count": null,
      "_view_module": "@jupyter-widgets/base",
      "_view_module_version": "1.2.0",
      "_view_name": "LayoutView",
      "align_content": null,
      "align_items": null,
      "align_self": null,
      "border": null,
      "bottom": null,
      "display": null,
      "flex": null,
      "flex_flow": null,
      "grid_area": null,
      "grid_auto_columns": null,
      "grid_auto_flow": null,
      "grid_auto_rows": null,
      "grid_column": null,
      "grid_gap": null,
      "grid_row": null,
      "grid_template_areas": null,
      "grid_template_columns": null,
      "grid_template_rows": null,
      "height": null,
      "justify_content": null,
      "justify_items": null,
      "left": null,
      "margin": null,
      "max_height": null,
      "max_width": null,
      "min_height": null,
      "min_width": null,
      "object_fit": null,
      "object_position": null,
      "order": null,
      "overflow": null,
      "overflow_x": null,
      "overflow_y": null,
      "padding": null,
      "right": null,
      "top": null,
      "visibility": null,
      "width": null
     }
    },
    "5b16d3edd91545dab0aa33d257cc990d": {
     "model_module": "@jupyter-widgets/base",
     "model_name": "LayoutModel",
     "state": {
      "_model_module": "@jupyter-widgets/base",
      "_model_module_version": "1.2.0",
      "_model_name": "LayoutModel",
      "_view_count": null,
      "_view_module": "@jupyter-widgets/base",
      "_view_module_version": "1.2.0",
      "_view_name": "LayoutView",
      "align_content": null,
      "align_items": null,
      "align_self": null,
      "border": null,
      "bottom": null,
      "display": null,
      "flex": null,
      "flex_flow": null,
      "grid_area": null,
      "grid_auto_columns": null,
      "grid_auto_flow": null,
      "grid_auto_rows": null,
      "grid_column": null,
      "grid_gap": null,
      "grid_row": null,
      "grid_template_areas": null,
      "grid_template_columns": null,
      "grid_template_rows": null,
      "height": null,
      "justify_content": null,
      "justify_items": null,
      "left": null,
      "margin": null,
      "max_height": null,
      "max_width": null,
      "min_height": null,
      "min_width": null,
      "object_fit": null,
      "object_position": null,
      "order": null,
      "overflow": null,
      "overflow_x": null,
      "overflow_y": null,
      "padding": null,
      "right": null,
      "top": null,
      "visibility": null,
      "width": null
     }
    },
    "5c1e3bb2821d427fbd325dc32d950f0d": {
     "model_module": "@jupyter-widgets/base",
     "model_name": "LayoutModel",
     "state": {
      "_model_module": "@jupyter-widgets/base",
      "_model_module_version": "1.2.0",
      "_model_name": "LayoutModel",
      "_view_count": null,
      "_view_module": "@jupyter-widgets/base",
      "_view_module_version": "1.2.0",
      "_view_name": "LayoutView",
      "align_content": null,
      "align_items": null,
      "align_self": null,
      "border": null,
      "bottom": null,
      "display": null,
      "flex": null,
      "flex_flow": null,
      "grid_area": null,
      "grid_auto_columns": null,
      "grid_auto_flow": null,
      "grid_auto_rows": null,
      "grid_column": null,
      "grid_gap": null,
      "grid_row": null,
      "grid_template_areas": null,
      "grid_template_columns": null,
      "grid_template_rows": null,
      "height": null,
      "justify_content": null,
      "justify_items": null,
      "left": null,
      "margin": null,
      "max_height": null,
      "max_width": null,
      "min_height": null,
      "min_width": null,
      "object_fit": null,
      "object_position": null,
      "order": null,
      "overflow": null,
      "overflow_x": null,
      "overflow_y": null,
      "padding": null,
      "right": null,
      "top": null,
      "visibility": null,
      "width": null
     }
    },
    "5ec1752953de41c3bfdbe38d79d74109": {
     "model_module": "@jupyter-widgets/controls",
     "model_name": "FloatProgressModel",
     "state": {
      "_dom_classes": [],
      "_model_module": "@jupyter-widgets/controls",
      "_model_module_version": "1.5.0",
      "_model_name": "FloatProgressModel",
      "_view_count": null,
      "_view_module": "@jupyter-widgets/controls",
      "_view_module_version": "1.5.0",
      "_view_name": "ProgressView",
      "bar_style": "info",
      "description": "  0%",
      "description_tooltip": null,
      "layout": "IPY_MODEL_52da2eaca3c74b6188c541b1f32c6204",
      "max": 1,
      "min": 0,
      "orientation": "horizontal",
      "style": "IPY_MODEL_ec64ebe2b55e4666913d4cad7f9e9fb2",
      "value": 0
     }
    },
    "78180c907fa84131b01e96f617d8443c": {
     "model_module": "@jupyter-widgets/base",
     "model_name": "LayoutModel",
     "state": {
      "_model_module": "@jupyter-widgets/base",
      "_model_module_version": "1.2.0",
      "_model_name": "LayoutModel",
      "_view_count": null,
      "_view_module": "@jupyter-widgets/base",
      "_view_module_version": "1.2.0",
      "_view_name": "LayoutView",
      "align_content": null,
      "align_items": null,
      "align_self": null,
      "border": null,
      "bottom": null,
      "display": null,
      "flex": null,
      "flex_flow": null,
      "grid_area": null,
      "grid_auto_columns": null,
      "grid_auto_flow": null,
      "grid_auto_rows": null,
      "grid_column": null,
      "grid_gap": null,
      "grid_row": null,
      "grid_template_areas": null,
      "grid_template_columns": null,
      "grid_template_rows": null,
      "height": null,
      "justify_content": null,
      "justify_items": null,
      "left": null,
      "margin": null,
      "max_height": null,
      "max_width": null,
      "min_height": null,
      "min_width": null,
      "object_fit": null,
      "object_position": null,
      "order": null,
      "overflow": null,
      "overflow_x": null,
      "overflow_y": null,
      "padding": null,
      "right": null,
      "top": null,
      "visibility": null,
      "width": null
     }
    },
    "81513782e5754acaaede06a328e8f3b3": {
     "model_module": "@jupyter-widgets/controls",
     "model_name": "HTMLModel",
     "state": {
      "_dom_classes": [],
      "_model_module": "@jupyter-widgets/controls",
      "_model_module_version": "1.5.0",
      "_model_name": "HTMLModel",
      "_view_count": null,
      "_view_module": "@jupyter-widgets/controls",
      "_view_module_version": "1.5.0",
      "_view_name": "HTMLView",
      "description": "",
      "description_tooltip": null,
      "layout": "IPY_MODEL_04ca3196f21443e4889cd9fc42c7afcf",
      "placeholder": "​",
      "style": "IPY_MODEL_c2e4e8ec9e08456ca4483c9f11221116",
      "value": " 0/4542 [00:00&lt;?, ?it/s]"
     }
    },
    "82a421b40b0b4db384cf43e394da663d": {
     "model_module": "@jupyter-widgets/base",
     "model_name": "LayoutModel",
     "state": {
      "_model_module": "@jupyter-widgets/base",
      "_model_module_version": "1.2.0",
      "_model_name": "LayoutModel",
      "_view_count": null,
      "_view_module": "@jupyter-widgets/base",
      "_view_module_version": "1.2.0",
      "_view_name": "LayoutView",
      "align_content": null,
      "align_items": null,
      "align_self": null,
      "border": null,
      "bottom": null,
      "display": null,
      "flex": null,
      "flex_flow": null,
      "grid_area": null,
      "grid_auto_columns": null,
      "grid_auto_flow": null,
      "grid_auto_rows": null,
      "grid_column": null,
      "grid_gap": null,
      "grid_row": null,
      "grid_template_areas": null,
      "grid_template_columns": null,
      "grid_template_rows": null,
      "height": null,
      "justify_content": null,
      "justify_items": null,
      "left": null,
      "margin": null,
      "max_height": null,
      "max_width": null,
      "min_height": null,
      "min_width": null,
      "object_fit": null,
      "object_position": null,
      "order": null,
      "overflow": null,
      "overflow_x": null,
      "overflow_y": null,
      "padding": null,
      "right": null,
      "top": null,
      "visibility": null,
      "width": null
     }
    },
    "94d5c0e77a12480d901d737bece2612f": {
     "model_module": "@jupyter-widgets/controls",
     "model_name": "DescriptionStyleModel",
     "state": {
      "_model_module": "@jupyter-widgets/controls",
      "_model_module_version": "1.5.0",
      "_model_name": "DescriptionStyleModel",
      "_view_count": null,
      "_view_module": "@jupyter-widgets/base",
      "_view_module_version": "1.2.0",
      "_view_name": "StyleView",
      "description_width": ""
     }
    },
    "b3543264a3fc445f8ea3878f741bbbd4": {
     "model_module": "@jupyter-widgets/controls",
     "model_name": "HBoxModel",
     "state": {
      "_dom_classes": [],
      "_model_module": "@jupyter-widgets/controls",
      "_model_module_version": "1.5.0",
      "_model_name": "HBoxModel",
      "_view_count": null,
      "_view_module": "@jupyter-widgets/controls",
      "_view_module_version": "1.5.0",
      "_view_name": "HBoxView",
      "box_style": "",
      "children": [
       "IPY_MODEL_e98814ef700d462eac2baa0fa66fc41f",
       "IPY_MODEL_3352db3427914800aa3cc0821cd2066d"
      ],
      "layout": "IPY_MODEL_bd30989e8789403aa23d960fdc5ea7b3"
     }
    },
    "b99c3947982e4a64a67f76e85d8b83c5": {
     "model_module": "@jupyter-widgets/controls",
     "model_name": "FloatProgressModel",
     "state": {
      "_dom_classes": [],
      "_model_module": "@jupyter-widgets/controls",
      "_model_module_version": "1.5.0",
      "_model_name": "FloatProgressModel",
      "_view_count": null,
      "_view_module": "@jupyter-widgets/controls",
      "_view_module_version": "1.5.0",
      "_view_name": "ProgressView",
      "bar_style": "success",
      "description": "",
      "description_tooltip": null,
      "layout": "IPY_MODEL_82a421b40b0b4db384cf43e394da663d",
      "max": 1,
      "min": 0,
      "orientation": "horizontal",
      "style": "IPY_MODEL_bfa994fdb1384ffaa0a1efa25476dddd",
      "value": 1
     }
    },
    "bd30989e8789403aa23d960fdc5ea7b3": {
     "model_module": "@jupyter-widgets/base",
     "model_name": "LayoutModel",
     "state": {
      "_model_module": "@jupyter-widgets/base",
      "_model_module_version": "1.2.0",
      "_model_name": "LayoutModel",
      "_view_count": null,
      "_view_module": "@jupyter-widgets/base",
      "_view_module_version": "1.2.0",
      "_view_name": "LayoutView",
      "align_content": null,
      "align_items": null,
      "align_self": null,
      "border": null,
      "bottom": null,
      "display": null,
      "flex": null,
      "flex_flow": null,
      "grid_area": null,
      "grid_auto_columns": null,
      "grid_auto_flow": null,
      "grid_auto_rows": null,
      "grid_column": null,
      "grid_gap": null,
      "grid_row": null,
      "grid_template_areas": null,
      "grid_template_columns": null,
      "grid_template_rows": null,
      "height": null,
      "justify_content": null,
      "justify_items": null,
      "left": null,
      "margin": null,
      "max_height": null,
      "max_width": null,
      "min_height": null,
      "min_width": null,
      "object_fit": null,
      "object_position": null,
      "order": null,
      "overflow": null,
      "overflow_x": null,
      "overflow_y": null,
      "padding": null,
      "right": null,
      "top": null,
      "visibility": null,
      "width": null
     }
    },
    "bfa994fdb1384ffaa0a1efa25476dddd": {
     "model_module": "@jupyter-widgets/controls",
     "model_name": "ProgressStyleModel",
     "state": {
      "_model_module": "@jupyter-widgets/controls",
      "_model_module_version": "1.5.0",
      "_model_name": "ProgressStyleModel",
      "_view_count": null,
      "_view_module": "@jupyter-widgets/base",
      "_view_module_version": "1.2.0",
      "_view_name": "StyleView",
      "bar_color": null,
      "description_width": "initial"
     }
    },
    "c2e4e8ec9e08456ca4483c9f11221116": {
     "model_module": "@jupyter-widgets/controls",
     "model_name": "DescriptionStyleModel",
     "state": {
      "_model_module": "@jupyter-widgets/controls",
      "_model_module_version": "1.5.0",
      "_model_name": "DescriptionStyleModel",
      "_view_count": null,
      "_view_module": "@jupyter-widgets/base",
      "_view_module_version": "1.2.0",
      "_view_name": "StyleView",
      "description_width": ""
     }
    },
    "cb71168f24db4f3b984fea445b01dddd": {
     "model_module": "@jupyter-widgets/controls",
     "model_name": "ProgressStyleModel",
     "state": {
      "_model_module": "@jupyter-widgets/controls",
      "_model_module_version": "1.5.0",
      "_model_name": "ProgressStyleModel",
      "_view_count": null,
      "_view_module": "@jupyter-widgets/base",
      "_view_module_version": "1.2.0",
      "_view_name": "StyleView",
      "bar_color": null,
      "description_width": "initial"
     }
    },
    "ceda620b942d4dc294f690d48a3922da": {
     "model_module": "@jupyter-widgets/controls",
     "model_name": "HTMLModel",
     "state": {
      "_dom_classes": [],
      "_model_module": "@jupyter-widgets/controls",
      "_model_module_version": "1.5.0",
      "_model_name": "HTMLModel",
      "_view_count": null,
      "_view_module": "@jupyter-widgets/controls",
      "_view_module_version": "1.5.0",
      "_view_name": "HTMLView",
      "description": "",
      "description_tooltip": null,
      "layout": "IPY_MODEL_78180c907fa84131b01e96f617d8443c",
      "placeholder": "​",
      "style": "IPY_MODEL_24bf0828ce1a4f56bfca7a1ead1c29ac",
      "value": " 1654784/? [00:01&lt;00:00, 899750.49it/s]"
     }
    },
    "d3f67093d6534987aafd110dafd39a0d": {
     "model_module": "@jupyter-widgets/base",
     "model_name": "LayoutModel",
     "state": {
      "_model_module": "@jupyter-widgets/base",
      "_model_module_version": "1.2.0",
      "_model_name": "LayoutModel",
      "_view_count": null,
      "_view_module": "@jupyter-widgets/base",
      "_view_module_version": "1.2.0",
      "_view_name": "LayoutView",
      "align_content": null,
      "align_items": null,
      "align_self": null,
      "border": null,
      "bottom": null,
      "display": null,
      "flex": null,
      "flex_flow": null,
      "grid_area": null,
      "grid_auto_columns": null,
      "grid_auto_flow": null,
      "grid_auto_rows": null,
      "grid_column": null,
      "grid_gap": null,
      "grid_row": null,
      "grid_template_areas": null,
      "grid_template_columns": null,
      "grid_template_rows": null,
      "height": null,
      "justify_content": null,
      "justify_items": null,
      "left": null,
      "margin": null,
      "max_height": null,
      "max_width": null,
      "min_height": null,
      "min_width": null,
      "object_fit": null,
      "object_position": null,
      "order": null,
      "overflow": null,
      "overflow_x": null,
      "overflow_y": null,
      "padding": null,
      "right": null,
      "top": null,
      "visibility": null,
      "width": null
     }
    },
    "d683c488673940d09680b54f94d2f379": {
     "model_module": "@jupyter-widgets/base",
     "model_name": "LayoutModel",
     "state": {
      "_model_module": "@jupyter-widgets/base",
      "_model_module_version": "1.2.0",
      "_model_name": "LayoutModel",
      "_view_count": null,
      "_view_module": "@jupyter-widgets/base",
      "_view_module_version": "1.2.0",
      "_view_name": "LayoutView",
      "align_content": null,
      "align_items": null,
      "align_self": null,
      "border": null,
      "bottom": null,
      "display": null,
      "flex": null,
      "flex_flow": null,
      "grid_area": null,
      "grid_auto_columns": null,
      "grid_auto_flow": null,
      "grid_auto_rows": null,
      "grid_column": null,
      "grid_gap": null,
      "grid_row": null,
      "grid_template_areas": null,
      "grid_template_columns": null,
      "grid_template_rows": null,
      "height": null,
      "justify_content": null,
      "justify_items": null,
      "left": null,
      "margin": null,
      "max_height": null,
      "max_width": null,
      "min_height": null,
      "min_width": null,
      "object_fit": null,
      "object_position": null,
      "order": null,
      "overflow": null,
      "overflow_x": null,
      "overflow_y": null,
      "padding": null,
      "right": null,
      "top": null,
      "visibility": null,
      "width": null
     }
    },
    "e100ee4ffcc94b23bbf35d873509b083": {
     "model_module": "@jupyter-widgets/controls",
     "model_name": "DescriptionStyleModel",
     "state": {
      "_model_module": "@jupyter-widgets/controls",
      "_model_module_version": "1.5.0",
      "_model_name": "DescriptionStyleModel",
      "_view_count": null,
      "_view_module": "@jupyter-widgets/base",
      "_view_module_version": "1.2.0",
      "_view_name": "StyleView",
      "description_width": ""
     }
    },
    "e74829a77a194096b02a2cea86d1aec0": {
     "model_module": "@jupyter-widgets/controls",
     "model_name": "FloatProgressModel",
     "state": {
      "_dom_classes": [],
      "_model_module": "@jupyter-widgets/controls",
      "_model_module_version": "1.5.0",
      "_model_name": "FloatProgressModel",
      "_view_count": null,
      "_view_module": "@jupyter-widgets/controls",
      "_view_module_version": "1.5.0",
      "_view_name": "ProgressView",
      "bar_style": "success",
      "description": "",
      "description_tooltip": null,
      "layout": "IPY_MODEL_3fc139faefc2425385903d1029e20ea0",
      "max": 1,
      "min": 0,
      "orientation": "horizontal",
      "style": "IPY_MODEL_2e4fa96942da43bcbc332b1f33bc484f",
      "value": 1
     }
    },
    "e98814ef700d462eac2baa0fa66fc41f": {
     "model_module": "@jupyter-widgets/controls",
     "model_name": "FloatProgressModel",
     "state": {
      "_dom_classes": [],
      "_model_module": "@jupyter-widgets/controls",
      "_model_module_version": "1.5.0",
      "_model_name": "FloatProgressModel",
      "_view_count": null,
      "_view_module": "@jupyter-widgets/controls",
      "_view_module_version": "1.5.0",
      "_view_name": "ProgressView",
      "bar_style": "info",
      "description": "",
      "description_tooltip": null,
      "layout": "IPY_MODEL_d3f67093d6534987aafd110dafd39a0d",
      "max": 1,
      "min": 0,
      "orientation": "horizontal",
      "style": "IPY_MODEL_cb71168f24db4f3b984fea445b01dddd",
      "value": 1
     }
    },
    "ec64ebe2b55e4666913d4cad7f9e9fb2": {
     "model_module": "@jupyter-widgets/controls",
     "model_name": "ProgressStyleModel",
     "state": {
      "_model_module": "@jupyter-widgets/controls",
      "_model_module_version": "1.5.0",
      "_model_name": "ProgressStyleModel",
      "_view_count": null,
      "_view_module": "@jupyter-widgets/base",
      "_view_module_version": "1.2.0",
      "_view_name": "StyleView",
      "bar_color": null,
      "description_width": "initial"
     }
    }
   }
  }
 },
 "nbformat": 4,
 "nbformat_minor": 1
}
